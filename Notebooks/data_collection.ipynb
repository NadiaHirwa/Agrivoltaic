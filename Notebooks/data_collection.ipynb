{
 "cells": [
  {
   "cell_type": "code",
   "execution_count": 1,
   "id": "4c759b41-42e0-45e6-816d-f32e5a1978b9",
   "metadata": {},
   "outputs": [
    {
     "name": "stdout",
     "output_type": "stream",
     "text": [
      "Dataset URL: https://www.kaggle.com/datasets/responsibleailab/agrivoltaic-dataset-ghana\n",
      "License(s): Attribution 4.0 International (CC BY 4.0)\n",
      "Downloading agrivoltaic-dataset-ghana.zip to C:\\Users\\user\\Documents\\tekHer\\Agrivoltaic\n",
      "\n"
     ]
    },
    {
     "name": "stderr",
     "output_type": "stream",
     "text": [
      "\n",
      "  0%|          | 0.00/4.09M [00:00<?, ?B/s]\n",
      "100%|##########| 4.09M/4.09M [00:00<00:00, 665MB/s]\n"
     ]
    }
   ],
   "source": [
    "!kaggle datasets download -d responsibleailab/agrivoltaic-dataset-ghana"
   ]
  },
  {
   "cell_type": "code",
   "execution_count": 7,
   "id": "d3c5af5a-b1a0-4b41-91ce-d93fa430fab5",
   "metadata": {},
   "outputs": [],
   "source": [
    "import zipfile\n",
    "\n",
    "with zipfile.ZipFile(\"agrivoltaic-dataset-ghana.zip\", 'r') as zip_ref:\n",
    "    zip_ref.extractall(\"agrivoltaic-data\")"
   ]
  }
 ],
 "metadata": {
  "kernelspec": {
   "display_name": "Python [conda env:base] *",
   "language": "python",
   "name": "conda-base-py"
  },
  "language_info": {
   "codemirror_mode": {
    "name": "ipython",
    "version": 3
   },
   "file_extension": ".py",
   "mimetype": "text/x-python",
   "name": "python",
   "nbconvert_exporter": "python",
   "pygments_lexer": "ipython3",
   "version": "3.12.7"
  }
 },
 "nbformat": 4,
 "nbformat_minor": 5
}
